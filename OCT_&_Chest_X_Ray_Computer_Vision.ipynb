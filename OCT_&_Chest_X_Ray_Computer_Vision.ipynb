{
 "cells": [
  {
   "cell_type": "markdown",
   "metadata": {
    "colab_type": "text",
    "id": "PnyIkmZOuNpq"
   },
   "source": [
    "## Data preparation and imports"
   ]
  },
  {
   "cell_type": "code",
   "execution_count": 1,
   "metadata": {
    "colab": {
     "base_uri": "https://localhost:8080/",
     "height": 286
    },
    "colab_type": "code",
    "id": "0iDLx_312phT",
    "outputId": "1c54746f-5336-45a1-d03e-55c08d1556f9"
   },
   "outputs": [
    {
     "name": "stdout",
     "output_type": "stream",
     "text": [
      "--2020-06-03 05:10:22--  https://data.mendeley.com/datasets/rscbjbr9sj/3/files/810b2ce2-11c3-4424-996e-3bef36600907/ZhangLabData.zip?dl=1\n",
      "Resolving data.mendeley.com (data.mendeley.com)... 162.159.130.86, 162.159.133.86, 2606:4700:7::a29f:8556, ...\n",
      "Connecting to data.mendeley.com (data.mendeley.com)|162.159.130.86|:443... connected.\n",
      "HTTP request sent, awaiting response... 302 Found\n",
      "Location: https://md-datasets-public-files-prod.s3.eu-west-1.amazonaws.com/e9a18c27-67da-40a2-8f48-1c12f03de39d [following]\n",
      "--2020-06-03 05:10:27--  https://md-datasets-public-files-prod.s3.eu-west-1.amazonaws.com/e9a18c27-67da-40a2-8f48-1c12f03de39d\n",
      "Resolving md-datasets-public-files-prod.s3.eu-west-1.amazonaws.com (md-datasets-public-files-prod.s3.eu-west-1.amazonaws.com)... 52.218.101.176\n",
      "Connecting to md-datasets-public-files-prod.s3.eu-west-1.amazonaws.com (md-datasets-public-files-prod.s3.eu-west-1.amazonaws.com)|52.218.101.176|:443... connected.\n",
      "HTTP request sent, awaiting response... 200 OK\n",
      "Length: 8441154111 (7.9G) [application/zip]\n",
      "Saving to: ‘ZhangLabData.zip?dl=1’\n",
      "\n",
      "ZhangLabData.zip?dl 100%[===================>]   7.86G  11.6MB/s    in 11m 56s \n",
      "\n",
      "2020-06-03 05:22:25 (11.2 MB/s) - ‘ZhangLabData.zip?dl=1’ saved [8441154111/8441154111]\n",
      "\n"
     ]
    }
   ],
   "source": [
    "!wget 'https://data.mendeley.com/datasets/rscbjbr9sj/3/files/810b2ce2-11c3-4424-996e-3bef36600907/ZhangLabData.zip?dl=1'"
   ]
  },
  {
   "cell_type": "code",
   "execution_count": 0,
   "metadata": {
    "colab": {},
    "colab_type": "code",
    "id": "n6fnmtOPDovv"
   },
   "outputs": [],
   "source": [
    "#shutil.rmtree(base_dir)"
   ]
  },
  {
   "cell_type": "code",
   "execution_count": 3,
   "metadata": {
    "colab": {
     "base_uri": "https://localhost:8080/",
     "height": 1000
    },
    "colab_type": "code",
    "id": "m6wtmGk62ywy",
    "outputId": "468bbc73-5d0d-482b-d6fd-a2c514db0dc2"
   },
   "outputs": [
    {
     "name": "stdout",
     "output_type": "stream",
     "text": [
      "\u001b[1;30;43mStreaming output truncated to the last 5000 lines.\u001b[0m\n",
      "  inflating: CellData/OCT/train/DME/DME-258763-26.jpeg  \n",
      "  inflating: CellData/OCT/train/DME/DME-8457431-23.jpeg  \n",
      "  inflating: CellData/OCT/train/DME/DME-3304080-55.jpeg  \n",
      "  inflating: CellData/OCT/train/DME/DME-5006393-70.jpeg  \n",
      "  inflating: CellData/OCT/train/DME/DME-5091309-15.jpeg  \n",
      "  inflating: CellData/OCT/train/DME/DME-3064922-181.jpeg  \n",
      "  inflating: CellData/OCT/train/DME/DME-8525575-184.jpeg  \n",
      "  inflating: CellData/OCT/train/DME/DME-5143281-26.jpeg  \n",
      "  inflating: CellData/OCT/train/DME/DME-6737988-35.jpeg  \n",
      "  inflating: CellData/OCT/train/DME/DME-3064922-202.jpeg  \n",
      "  inflating: CellData/OCT/train/DME/DME-3531101-20.jpeg  \n",
      "  inflating: CellData/OCT/train/DME/DME-3157783-58.jpeg  \n",
      "  inflating: CellData/OCT/train/DME/DME-258763-41.jpeg  \n",
      "  inflating: CellData/OCT/train/DME/DME-30521-85.jpeg  \n",
      "  inflating: CellData/OCT/train/DME/DME-5489583-15.jpeg  \n",
      "  inflating: CellData/OCT/train/DME/DME-3340309-24.jpeg  \n",
      "  -------------------------------------------------      \n",
      "  -------------------------------------------------      \n",
      "  -------------------------------------------------      \n",
      "  -------------------------------------------------      \n",
      "  -------------------------------------------------      \n",
      "  -------------------------------------------------      \n",
      "  -------------------------------------------------      \n",
      "  -------------------------------------------------      \n",
      "  inflating: CellData/code/net/train.pyc  \n",
      " extracting: CellData/code/net/__init__.py  \n",
      "  inflating: CellData/code/net/utils.py  \n",
      "  inflating: CellData/code/net/train.py  \n",
      "  inflating: CellData/code/net/__init__.pyc  \n",
      "  inflating: CellData/code/net/utils.pyc  \n",
      "  inflating: CellData/code/occlusion.py  \n",
      "  inflating: CellData/code/retrain.py  \n",
      "  inflating: CellData/code/README.md  \n"
     ]
    }
   ],
   "source": [
    "!unzip '/content/ZhangLabData.zip?dl=1'"
   ]
  },
  {
   "cell_type": "code",
   "execution_count": 4,
   "metadata": {
    "colab": {
     "base_uri": "https://localhost:8080/",
     "height": 34
    },
    "colab_type": "code",
    "id": "6RY6gVMT4gvl",
    "outputId": "dd856b95-4f90-44b9-c948-817302a3090a"
   },
   "outputs": [
    {
     "name": "stderr",
     "output_type": "stream",
     "text": [
      "Using TensorFlow backend.\n"
     ]
    }
   ],
   "source": [
    "import random\n",
    "import os,shutil\n",
    "import numpy as np\n",
    "from keras import layers\n",
    "from keras import models\n",
    "from keras import optimizers\n",
    "from keras.preprocessing.image import ImageDataGenerator\n",
    "from keras.preprocessing import image\n",
    "from keras.callbacks import ReduceLROnPlateau,EarlyStopping\n",
    "import matplotlib.pyplot as plt\n",
    "from sklearn.preprocessing import LabelBinarizer\n",
    "from sklearn.metrics import confusion_matrix,roc_curve,auc,accuracy_score,roc_auc_score,classification_report"
   ]
  },
  {
   "cell_type": "code",
   "execution_count": 0,
   "metadata": {
    "colab": {},
    "colab_type": "code",
    "id": "bxqg_mUs7uy6"
   },
   "outputs": [],
   "source": [
    "base_dir='/content/CellData'"
   ]
  },
  {
   "cell_type": "code",
   "execution_count": 0,
   "metadata": {
    "colab": {},
    "colab_type": "code",
    "id": "rWrQUGkA70Nt"
   },
   "outputs": [],
   "source": [
    "oct_path=os.path.join(base_dir,'OCT')\n",
    "xray_path=os.path.join(base_dir,'chest_xray')"
   ]
  },
  {
   "cell_type": "markdown",
   "metadata": {
    "colab_type": "text",
    "id": "X1iXBakJ8JmI"
   },
   "source": [
    "## OCT Images"
   ]
  },
  {
   "cell_type": "code",
   "execution_count": 0,
   "metadata": {
    "colab": {},
    "colab_type": "code",
    "id": "jzKPC3Cs8ynT"
   },
   "outputs": [],
   "source": [
    "oct_train_path=os.path.join(oct_path,'train')\n",
    "oct_test_path=os.path.join(oct_path,'test')"
   ]
  },
  {
   "cell_type": "code",
   "execution_count": 0,
   "metadata": {
    "colab": {},
    "colab_type": "code",
    "id": "GE-JWBzJ_0vU"
   },
   "outputs": [],
   "source": [
    "oct_train_normal=os.path.join(oct_train_path,'NORMAL')\n",
    "oct_train_drusen=os.path.join(oct_train_path,'DRUSEN')\n",
    "oct_train_dme=os.path.join(oct_train_path,'DME')\n",
    "oct_train_cnv=os.path.join(oct_train_path,'CNV')"
   ]
  },
  {
   "cell_type": "code",
   "execution_count": 9,
   "metadata": {
    "colab": {
     "base_uri": "https://localhost:8080/",
     "height": 84
    },
    "colab_type": "code",
    "id": "_scdkFGi9McA",
    "outputId": "ca62f7e8-4d26-4b69-9056-9ce4aac7d6da"
   },
   "outputs": [
    {
     "name": "stdout",
     "output_type": "stream",
     "text": [
      "Total OCT train NORMAL images: 51140\n",
      "Total OCT train DRUSEN images: 8616\n",
      "Total OCT train DME images: 11348\n",
      "Total OCT train CNV images: 37205\n"
     ]
    }
   ],
   "source": [
    "print('Total OCT train NORMAL images:', len(os.listdir(oct_train_normal)))\n",
    "print('Total OCT train DRUSEN images:', len(os.listdir(oct_train_drusen)))\n",
    "print('Total OCT train DME images:', len(os.listdir(oct_train_dme)))\n",
    "print('Total OCT train CNV images:', len(os.listdir(oct_train_cnv)))"
   ]
  },
  {
   "cell_type": "markdown",
   "metadata": {
    "colab_type": "text",
    "id": "-yzJ_DRU-Pt_"
   },
   "source": [
    "### Preparing a set of validation images by taking out 25 percent of training images"
   ]
  },
  {
   "cell_type": "code",
   "execution_count": 0,
   "metadata": {
    "colab": {},
    "colab_type": "code",
    "id": "whnBVaz48G1q"
   },
   "outputs": [],
   "source": [
    "oct_val_path=os.path.join(oct_path,'val')\n",
    "os.mkdir(oct_val_path)"
   ]
  },
  {
   "cell_type": "code",
   "execution_count": 0,
   "metadata": {
    "colab": {},
    "colab_type": "code",
    "id": "71nsgKH39mGS"
   },
   "outputs": [],
   "source": [
    "oct_val_normal=os.path.join(oct_val_path,'NORMAL')\n",
    "os.mkdir(oct_val_normal)\n",
    "oct_val_drusen=os.path.join(oct_val_path,'DRUSEN')\n",
    "os.mkdir(oct_val_drusen)\n",
    "oct_val_dme=os.path.join(oct_val_path,'DME')\n",
    "os.mkdir(oct_val_dme)\n",
    "oct_val_cnv=os.path.join(oct_val_path,'CNV')\n",
    "os.mkdir(oct_val_cnv)"
   ]
  },
  {
   "cell_type": "markdown",
   "metadata": {
    "colab_type": "text",
    "id": "xv-yHnRz_UoF"
   },
   "source": [
    "- Preparing the respective directories."
   ]
  },
  {
   "cell_type": "code",
   "execution_count": 0,
   "metadata": {
    "colab": {},
    "colab_type": "code",
    "id": "zutNJLIV_RhL"
   },
   "outputs": [],
   "source": [
    "def copy_files(src,dst):\n",
    "    c=0\n",
    "    files=os.listdir(src)\n",
    "    random.shuffle(files)\n",
    "    for f in files:\n",
    "        c+=1\n",
    "        path=os.path.join(src,f)\n",
    "        if(c<=int(len(files)*0.25)):\n",
    "            shutil.move(path, dst)\n",
    "        else:\n",
    "            break"
   ]
  },
  {
   "cell_type": "code",
   "execution_count": 0,
   "metadata": {
    "colab": {},
    "colab_type": "code",
    "id": "0-QA2PvZ_tgl"
   },
   "outputs": [],
   "source": [
    "copy_files(oct_train_normal,oct_val_normal)\n",
    "copy_files(oct_train_drusen,oct_val_drusen)\n",
    "copy_files(oct_train_dme,oct_val_dme)\n",
    "copy_files(oct_train_cnv,oct_val_cnv)"
   ]
  },
  {
   "cell_type": "code",
   "execution_count": 14,
   "metadata": {
    "colab": {
     "base_uri": "https://localhost:8080/",
     "height": 151
    },
    "colab_type": "code",
    "id": "wsqNtQj3BoXW",
    "outputId": "72dbd667-25ab-4f04-99fd-a18b64af9b3a"
   },
   "outputs": [
    {
     "name": "stdout",
     "output_type": "stream",
     "text": [
      "Total OCT train NORMAL images: 38355\n",
      "Total OCT val NORMAL images: 12785\n",
      "Total OCT train DRUSEN images: 6462\n",
      "Total OCT val DRUSEN images: 2154\n",
      "Total OCT train DME images: 8511\n",
      "Total OCT val DME images: 2837\n",
      "Total OCT train CNV images: 27904\n",
      "Total OCT train CNV images: 9301\n"
     ]
    }
   ],
   "source": [
    "print('Total OCT train NORMAL images:', len(os.listdir(oct_train_normal)))\n",
    "print('Total OCT val NORMAL images:', len(os.listdir(oct_val_normal)))\n",
    "print('Total OCT train DRUSEN images:', len(os.listdir(oct_train_drusen)))\n",
    "print('Total OCT val DRUSEN images:', len(os.listdir(oct_val_drusen)))\n",
    "print('Total OCT train DME images:', len(os.listdir(oct_train_dme)))\n",
    "print('Total OCT val DME images:', len(os.listdir(oct_val_dme)))\n",
    "print('Total OCT train CNV images:', len(os.listdir(oct_train_cnv)))\n",
    "print('Total OCT train CNV images:', len(os.listdir(oct_val_cnv)))"
   ]
  },
  {
   "cell_type": "markdown",
   "metadata": {
    "colab_type": "text",
    "id": "S9oo55hjIGRb"
   },
   "source": [
    "### Training the model"
   ]
  },
  {
   "cell_type": "markdown",
   "metadata": {
    "colab_type": "text",
    "id": "XfPeExMDWJI_"
   },
   "source": [
    "#### Checking the shape of the images"
   ]
  },
  {
   "cell_type": "code",
   "execution_count": 15,
   "metadata": {
    "colab": {
     "base_uri": "https://localhost:8080/",
     "height": 34
    },
    "colab_type": "code",
    "id": "Dz1NX1OLVxzv",
    "outputId": "76e6516f-f6db-41f7-81b1-a2ffc79b90e3"
   },
   "outputs": [
    {
     "data": {
      "text/plain": [
       "(496, 768, 3)"
      ]
     },
     "execution_count": 15,
     "metadata": {
      "tags": []
     },
     "output_type": "execute_result"
    }
   ],
   "source": [
    "files=os.listdir(oct_val_normal)\n",
    "img = image.load_img(os.path.join(oct_val_normal,files[1]))\n",
    "img=image.img_to_array(img)\n",
    "img.shape"
   ]
  },
  {
   "cell_type": "markdown",
   "metadata": {
    "colab_type": "text",
    "id": "3Ae3vCgG6dU0"
   },
   "source": [
    "#### Building the model"
   ]
  },
  {
   "cell_type": "code",
   "execution_count": 0,
   "metadata": {
    "colab": {},
    "colab_type": "code",
    "id": "4tTXNUfNGope"
   },
   "outputs": [],
   "source": [
    "model = models.Sequential()\n",
    "model.add(layers.Conv2D(32, (3, 3), activation='relu',input_shape=(256, 256, 3)))\n",
    "model.add(layers.Conv2D(32, (3, 3), activation='relu'))\n",
    "model.add(layers.MaxPooling2D((2, 2)))\n",
    "model.add(layers.Conv2D(64, (3, 3), activation='relu'))\n",
    "model.add(layers.Conv2D(64, (3, 3), activation='relu'))\n",
    "model.add(layers.MaxPooling2D((2, 2)))\n",
    "model.add(layers.Conv2D(128, (3, 3), activation='relu'))\n",
    "model.add(layers.Conv2D(128, (3, 3), activation='relu'))\n",
    "model.add(layers.Conv2D(128, (3, 3), activation='relu'))\n",
    "model.add(layers.MaxPooling2D((2, 2)))\n",
    "model.add(layers.Conv2D(256, (3, 3), activation='relu'))\n",
    "model.add(layers.Conv2D(256, (3, 3), activation='relu'))\n",
    "model.add(layers.Conv2D(256, (3, 3), activation='relu'))\n",
    "model.add(layers.MaxPooling2D((2, 2)))\n",
    "model.add(layers.Flatten())\n",
    "model.add(layers.Dropout(0.5))\n",
    "model.add(layers.Dense(512, activation='relu'))\n",
    "model.add(layers.Dense(4, activation='softmax'))"
   ]
  },
  {
   "cell_type": "code",
   "execution_count": 17,
   "metadata": {
    "colab": {
     "base_uri": "https://localhost:8080/",
     "height": 756
    },
    "colab_type": "code",
    "id": "hso8ZPLUH94m",
    "outputId": "36d0c589-8484-4bb5-9525-e7160aa0da29"
   },
   "outputs": [
    {
     "name": "stdout",
     "output_type": "stream",
     "text": [
      "Model: \"sequential_1\"\n",
      "_________________________________________________________________\n",
      "Layer (type)                 Output Shape              Param #   \n",
      "=================================================================\n",
      "conv2d_1 (Conv2D)            (None, 254, 254, 32)      896       \n",
      "_________________________________________________________________\n",
      "conv2d_2 (Conv2D)            (None, 252, 252, 32)      9248      \n",
      "_________________________________________________________________\n",
      "max_pooling2d_1 (MaxPooling2 (None, 126, 126, 32)      0         \n",
      "_________________________________________________________________\n",
      "conv2d_3 (Conv2D)            (None, 124, 124, 64)      18496     \n",
      "_________________________________________________________________\n",
      "conv2d_4 (Conv2D)            (None, 122, 122, 64)      36928     \n",
      "_________________________________________________________________\n",
      "max_pooling2d_2 (MaxPooling2 (None, 61, 61, 64)        0         \n",
      "_________________________________________________________________\n",
      "conv2d_5 (Conv2D)            (None, 59, 59, 128)       73856     \n",
      "_________________________________________________________________\n",
      "conv2d_6 (Conv2D)            (None, 57, 57, 128)       147584    \n",
      "_________________________________________________________________\n",
      "conv2d_7 (Conv2D)            (None, 55, 55, 128)       147584    \n",
      "_________________________________________________________________\n",
      "max_pooling2d_3 (MaxPooling2 (None, 27, 27, 128)       0         \n",
      "_________________________________________________________________\n",
      "conv2d_8 (Conv2D)            (None, 25, 25, 256)       295168    \n",
      "_________________________________________________________________\n",
      "conv2d_9 (Conv2D)            (None, 23, 23, 256)       590080    \n",
      "_________________________________________________________________\n",
      "conv2d_10 (Conv2D)           (None, 21, 21, 256)       590080    \n",
      "_________________________________________________________________\n",
      "max_pooling2d_4 (MaxPooling2 (None, 10, 10, 256)       0         \n",
      "_________________________________________________________________\n",
      "flatten_1 (Flatten)          (None, 25600)             0         \n",
      "_________________________________________________________________\n",
      "dropout_1 (Dropout)          (None, 25600)             0         \n",
      "_________________________________________________________________\n",
      "dense_1 (Dense)              (None, 512)               13107712  \n",
      "_________________________________________________________________\n",
      "dense_2 (Dense)              (None, 4)                 2052      \n",
      "=================================================================\n",
      "Total params: 15,019,684\n",
      "Trainable params: 15,019,684\n",
      "Non-trainable params: 0\n",
      "_________________________________________________________________\n"
     ]
    }
   ],
   "source": [
    "model.summary()"
   ]
  },
  {
   "cell_type": "code",
   "execution_count": 0,
   "metadata": {
    "colab": {},
    "colab_type": "code",
    "id": "hUarkwinISwx"
   },
   "outputs": [],
   "source": [
    "model.compile(loss='categorical_crossentropy',\n",
    "optimizer=optimizers.RMSprop(0.0001),\n",
    "metrics=['acc'])"
   ]
  },
  {
   "cell_type": "code",
   "execution_count": 0,
   "metadata": {
    "colab": {},
    "colab_type": "code",
    "id": "2rNKdnisQNrR"
   },
   "outputs": [],
   "source": [
    "earlystopper = EarlyStopping(patience=5, verbose=1)\n",
    "reduce_lr = ReduceLROnPlateau(monitor='val_loss', factor=0.2,\n",
    "                              patience=2, min_lr=0.0000001, verbose=1)"
   ]
  },
  {
   "cell_type": "markdown",
   "metadata": {
    "colab_type": "text",
    "id": "5MgsIudBlqin"
   },
   "source": [
    "- Defining ReduceLROnPlateau and EarlyStopping callbacks."
   ]
  },
  {
   "cell_type": "code",
   "execution_count": 0,
   "metadata": {
    "colab": {},
    "colab_type": "code",
    "id": "pJrhl6pBIV6C"
   },
   "outputs": [],
   "source": [
    "train_datagen = ImageDataGenerator(rescale=1./255,\n",
    "rotation_range=40,\n",
    "width_shift_range=0.2,\n",
    "height_shift_range=0.2,\n",
    "shear_range=0.2,\n",
    "zoom_range=0.2,\n",
    "horizontal_flip=True)\n",
    "test_datagen = ImageDataGenerator(rescale=1./255)"
   ]
  },
  {
   "cell_type": "markdown",
   "metadata": {
    "colab_type": "text",
    "id": "tLDVw_Z1uhqM"
   },
   "source": [
    "- We'll be using augmented images for training and validating the model."
   ]
  },
  {
   "cell_type": "code",
   "execution_count": 21,
   "metadata": {
    "colab": {
     "base_uri": "https://localhost:8080/",
     "height": 34
    },
    "colab_type": "code",
    "id": "w8AutUizImOT",
    "outputId": "e7036116-704b-4e24-efda-57b7acf9a118"
   },
   "outputs": [
    {
     "name": "stdout",
     "output_type": "stream",
     "text": [
      "Found 81232 images belonging to 4 classes.\n"
     ]
    }
   ],
   "source": [
    "train_generator = train_datagen.flow_from_directory(\n",
    "oct_train_path,\n",
    "#target_size=(150, 150),\n",
    "batch_size=64,\n",
    "class_mode='categorical',\n",
    "shuffle=True)"
   ]
  },
  {
   "cell_type": "code",
   "execution_count": 22,
   "metadata": {
    "colab": {
     "base_uri": "https://localhost:8080/",
     "height": 34
    },
    "colab_type": "code",
    "id": "l64svXB9IuFw",
    "outputId": "f1064a4b-31b2-406b-9833-939b38fa8884"
   },
   "outputs": [
    {
     "name": "stdout",
     "output_type": "stream",
     "text": [
      "Found 27077 images belonging to 4 classes.\n"
     ]
    }
   ],
   "source": [
    "validation_generator = train_datagen.flow_from_directory(\n",
    "oct_val_path,\n",
    "#target_size=(150, 150),\n",
    "batch_size=64,\n",
    "class_mode='categorical',\n",
    "shuffle=True)"
   ]
  },
  {
   "cell_type": "code",
   "execution_count": 23,
   "metadata": {
    "colab": {
     "base_uri": "https://localhost:8080/",
     "height": 672
    },
    "colab_type": "code",
    "id": "gLjnL_tgJcih",
    "outputId": "28568806-13f4-4487-90d1-67fe179c81ce"
   },
   "outputs": [
    {
     "name": "stdout",
     "output_type": "stream",
     "text": [
      "Epoch 1/16\n",
      "1270/1270 [==============================] - 2319s 2s/step - loss: 0.7553 - acc: 0.7247 - val_loss: 0.3173 - val_acc: 0.8078\n",
      "Epoch 2/16\n",
      "1270/1270 [==============================] - 2334s 2s/step - loss: 0.4888 - acc: 0.8325 - val_loss: 0.0942 - val_acc: 0.8673\n",
      "Epoch 3/16\n",
      "1270/1270 [==============================] - 2362s 2s/step - loss: 0.3603 - acc: 0.8793 - val_loss: 0.0236 - val_acc: 0.9088\n",
      "Epoch 4/16\n",
      "1270/1270 [==============================] - 2378s 2s/step - loss: 0.2733 - acc: 0.9102 - val_loss: 0.0442 - val_acc: 0.9262\n",
      "Epoch 5/16\n",
      "1270/1270 [==============================] - 2329s 2s/step - loss: 0.2369 - acc: 0.9238 - val_loss: 0.3617 - val_acc: 0.9231\n",
      "\n",
      "Epoch 00005: ReduceLROnPlateau reducing learning rate to 1.9999999494757503e-05.\n",
      "Epoch 6/16\n",
      "1270/1270 [==============================] - 2325s 2s/step - loss: 0.1773 - acc: 0.9426 - val_loss: 0.0109 - val_acc: 0.9463\n",
      "Epoch 7/16\n",
      "1270/1270 [==============================] - 2315s 2s/step - loss: 0.1704 - acc: 0.9448 - val_loss: 0.1770 - val_acc: 0.9468\n",
      "Epoch 8/16\n",
      "1270/1270 [==============================] - 2311s 2s/step - loss: 0.1652 - acc: 0.9465 - val_loss: 0.0401 - val_acc: 0.9466\n",
      "\n",
      "Epoch 00008: ReduceLROnPlateau reducing learning rate to 3.999999898951501e-06.\n",
      "Epoch 9/16\n",
      "1270/1270 [==============================] - 2285s 2s/step - loss: 0.1546 - acc: 0.9495 - val_loss: 0.5430 - val_acc: 0.9507\n",
      "Epoch 10/16\n",
      "1270/1270 [==============================] - 2248s 2s/step - loss: 0.1519 - acc: 0.9501 - val_loss: 0.0054 - val_acc: 0.9507\n",
      "Epoch 11/16\n",
      "1270/1270 [==============================] - 2299s 2s/step - loss: 0.1493 - acc: 0.9508 - val_loss: 0.3602 - val_acc: 0.9501\n",
      "Epoch 12/16\n",
      "1270/1270 [==============================] - 2284s 2s/step - loss: 0.1516 - acc: 0.9503 - val_loss: 0.1055 - val_acc: 0.9519\n",
      "\n",
      "Epoch 00012: ReduceLROnPlateau reducing learning rate to 7.999999979801942e-07.\n",
      "Epoch 13/16\n",
      "1270/1270 [==============================] - 2266s 2s/step - loss: 0.1459 - acc: 0.9521 - val_loss: 0.0183 - val_acc: 0.9528\n",
      "Epoch 14/16\n",
      "1270/1270 [==============================] - 2246s 2s/step - loss: 0.1465 - acc: 0.9523 - val_loss: 0.2861 - val_acc: 0.9513\n",
      "\n",
      "Epoch 00014: ReduceLROnPlateau reducing learning rate to 1.600000018697756e-07.\n",
      "Epoch 15/16\n",
      "1270/1270 [==============================] - 2291s 2s/step - loss: 0.1450 - acc: 0.9522 - val_loss: 0.0661 - val_acc: 0.9516\n",
      "Epoch 00015: early stopping\n"
     ]
    }
   ],
   "source": [
    "history = model.fit_generator(\n",
    "train_generator,\n",
    "steps_per_epoch=1270,\n",
    "epochs=16,\n",
    "validation_data=validation_generator,\n",
    "validation_steps=424,\n",
    "callbacks=[earlystopper, reduce_lr])"
   ]
  },
  {
   "cell_type": "code",
   "execution_count": 0,
   "metadata": {
    "colab": {},
    "colab_type": "code",
    "id": "KCPh7bhz1ZMr"
   },
   "outputs": [],
   "source": [
    "model.save('OCT.h5')\n",
    "#model=models.load_model('/content/drive/My Drive/OCT.h5')"
   ]
  },
  {
   "cell_type": "code",
   "execution_count": 0,
   "metadata": {
    "colab": {},
    "colab_type": "code",
    "id": "rxM_nLfYJw-z"
   },
   "outputs": [],
   "source": [
    "acc = history.history['acc']\n",
    "val_acc = history.history['val_acc']\n",
    "loss = history.history['loss']\n",
    "val_loss = history.history['val_loss']"
   ]
  },
  {
   "cell_type": "code",
   "execution_count": 26,
   "metadata": {
    "colab": {
     "base_uri": "https://localhost:8080/",
     "height": 314
    },
    "colab_type": "code",
    "id": "u6BN3Hv60w3D",
    "outputId": "9841bb3f-c489-433f-fe70-df1dfe26c36e"
   },
   "outputs": [
    {
     "data": {
      "text/plain": [
       "<Figure size 432x288 with 0 Axes>"
      ]
     },
     "execution_count": 26,
     "metadata": {
      "tags": []
     },
     "output_type": "execute_result"
    },
    {
     "data": {
      "image/png": "[encoded data removed]",
      "text/plain": [
       "<Figure size 432x288 with 1 Axes>"
      ]
     },
     "metadata": {
      "needs_background": "light",
      "tags": []
     },
     "output_type": "display_data"
    },
    {
     "data": {
      "text/plain": [
       "<Figure size 432x288 with 0 Axes>"
      ]
     },
     "metadata": {
      "tags": []
     },
     "output_type": "display_data"
    }
   ],
   "source": [
    "epochs = range(1, len(acc) + 1)\n",
    "plt.plot(epochs, acc, 'bo', label='Training acc')\n",
    "plt.plot(epochs, val_acc, 'b', label='Validation acc')\n",
    "plt.title('Training and validation accuracy')\n",
    "plt.legend()\n",
    "plt.figure()"
   ]
  },
  {
   "cell_type": "code",
   "execution_count": 27,
   "metadata": {
    "colab": {
     "base_uri": "https://localhost:8080/",
     "height": 281
    },
    "colab_type": "code",
    "id": "iWe4BDQt0zCg",
    "outputId": "84686522-7285-4c6b-ed26-532bc2a79556"
   },
   "outputs": [
    {
     "data": {
      "image/png": "[encoded data removed]",
      "text/plain": [
       "<Figure size 432x288 with 1 Axes>"
      ]
     },
     "metadata": {
      "needs_background": "light",
      "tags": []
     },
     "output_type": "display_data"
    }
   ],
   "source": [
    "plt.plot(epochs, loss, 'bo', label='Training loss')\n",
    "plt.plot(epochs, val_loss, 'b', label='Validation loss')\n",
    "plt.title('Training and validation loss')\n",
    "plt.legend()\n",
    "plt.show()"
   ]
  },
  {
   "cell_type": "markdown",
   "metadata": {
    "colab_type": "text",
    "id": "S2IO46hj6TW5"
   },
   "source": [
    "### Testing the model"
   ]
  },
  {
   "cell_type": "code",
   "execution_count": 28,
   "metadata": {
    "colab": {
     "base_uri": "https://localhost:8080/",
     "height": 34
    },
    "colab_type": "code",
    "id": "5WDeVI7l1u7C",
    "outputId": "3419859c-d963-4af9-f8a0-2fa4d60c4eb4"
   },
   "outputs": [
    {
     "name": "stdout",
     "output_type": "stream",
     "text": [
      "Found 1000 images belonging to 4 classes.\n"
     ]
    }
   ],
   "source": [
    "test_generator = test_datagen.flow_from_directory(\n",
    "oct_test_path,\n",
    "#target_size=(150, 150),\n",
    "class_mode='categorical',\n",
    "shuffle=False)"
   ]
  },
  {
   "cell_type": "code",
   "execution_count": 0,
   "metadata": {
    "colab": {},
    "colab_type": "code",
    "id": "2_sZUXsa2d6C"
   },
   "outputs": [],
   "source": [
    "pred=model.predict_generator(test_generator)"
   ]
  },
  {
   "cell_type": "code",
   "execution_count": 0,
   "metadata": {
    "colab": {},
    "colab_type": "code",
    "id": "x7Sw2P1s3gqH"
   },
   "outputs": [],
   "source": [
    "predictions=[]\n",
    "for p in pred:\n",
    "    predictions.append(np.argmax(p))"
   ]
  },
  {
   "cell_type": "code",
   "execution_count": 31,
   "metadata": {
    "colab": {
     "base_uri": "https://localhost:8080/",
     "height": 34
    },
    "colab_type": "code",
    "id": "xajvA24y3x21",
    "outputId": "fc89bd77-e728-4ad9-d268-209433284824"
   },
   "outputs": [
    {
     "name": "stdout",
     "output_type": "stream",
     "text": [
      "Accuracy Score ->  92.60000000000001\n"
     ]
    }
   ],
   "source": [
    "# Accuracy score\n",
    "print(\"Accuracy Score -> \",accuracy_score(predictions,test_generator.labels)*100)"
   ]
  },
  {
   "cell_type": "code",
   "execution_count": 32,
   "metadata": {
    "colab": {
     "base_uri": "https://localhost:8080/",
     "height": 202
    },
    "colab_type": "code",
    "id": "V6-8dODX7Gkb",
    "outputId": "5ab899c4-9b48-475c-c457-198b353ec766"
   },
   "outputs": [
    {
     "name": "stdout",
     "output_type": "stream",
     "text": [
      "              precision    recall  f1-score   support\n",
      "\n",
      "           0       0.79      1.00      0.88       250\n",
      "           1       1.00      0.94      0.97       250\n",
      "           2       0.99      0.76      0.86       250\n",
      "           3       0.98      1.00      0.99       250\n",
      "\n",
      "    accuracy                           0.93      1000\n",
      "   macro avg       0.94      0.93      0.93      1000\n",
      "weighted avg       0.94      0.93      0.93      1000\n",
      "\n"
     ]
    }
   ],
   "source": [
    "# Classification report\n",
    "print(classification_report(test_generator.labels, predictions))"
   ]
  },
  {
   "cell_type": "code",
   "execution_count": 0,
   "metadata": {
    "colab": {},
    "colab_type": "code",
    "id": "IY-XiRRg_qpP"
   },
   "outputs": [],
   "source": [
    "def multiclass_roc_auc_score(y_test, y_pred, average=\"macro\"):\n",
    "    lb = LabelBinarizer()\n",
    "    lb.fit(y_test)\n",
    "    y_test = lb.transform(y_test)\n",
    "    y_pred = lb.transform(y_pred)\n",
    "    return roc_auc_score(y_test, y_pred, average=average)"
   ]
  },
  {
   "cell_type": "code",
   "execution_count": 34,
   "metadata": {
    "colab": {
     "base_uri": "https://localhost:8080/",
     "height": 34
    },
    "colab_type": "code",
    "id": "rWcg2Vq8AquN",
    "outputId": "7bac4aa3-17de-4696-a520-978b1f0a1768"
   },
   "outputs": [
    {
     "data": {
      "text/plain": [
       "0.9506666666666668"
      ]
     },
     "execution_count": 34,
     "metadata": {
      "tags": []
     },
     "output_type": "execute_result"
    }
   ],
   "source": [
    "multiclass_roc_auc_score(test_generator.labels, predictions)"
   ]
  },
  {
   "cell_type": "markdown",
   "metadata": {
    "colab_type": "text",
    "id": "_dz2k-1OCY4R"
   },
   "source": [
    "- Our model is giving an AUC-ROC of 0.95 on the test set, which is pretty good."
   ]
  },
  {
   "cell_type": "markdown",
   "metadata": {
    "colab_type": "text",
    "id": "-JdDTv4ACyK4"
   },
   "source": [
    "## Chest X-Ray Images"
   ]
  },
  {
   "cell_type": "code",
   "execution_count": 0,
   "metadata": {
    "colab": {},
    "colab_type": "code",
    "id": "42IHShHMA-ub"
   },
   "outputs": [],
   "source": [
    "xray_train_path=os.path.join(xray_path,'train')\n",
    "xray_test_path=os.path.join(xray_path,'test')"
   ]
  },
  {
   "cell_type": "code",
   "execution_count": 0,
   "metadata": {
    "colab": {},
    "colab_type": "code",
    "id": "ic_etflLDNaV"
   },
   "outputs": [],
   "source": [
    "xray_train_normal=os.path.join(xray_train_path,'NORMAL')\n",
    "xray_train_pneumonia=os.path.join(xray_train_path,'PNEUMONIA')"
   ]
  },
  {
   "cell_type": "code",
   "execution_count": 0,
   "metadata": {
    "colab": {
     "base_uri": "https://localhost:8080/",
     "height": 50
    },
    "colab_type": "code",
    "id": "ACjdv9fxDdOg",
    "outputId": "4680ac40-78c5-49e5-8656-9154fdc4c489"
   },
   "outputs": [
    {
     "name": "stdout",
     "output_type": "stream",
     "text": [
      "Total Chest X-Ray train NORMAL images: 1349\n",
      "Total Chest X-Ray train PNEUMONIA images: 3884\n"
     ]
    }
   ],
   "source": [
    "print('Total Chest X-Ray train NORMAL images:', len(os.listdir(xray_train_normal)))\n",
    "print('Total Chest X-Ray train PNEUMONIA images:', len(os.listdir(xray_train_pneumonia)))"
   ]
  },
  {
   "cell_type": "markdown",
   "metadata": {
    "colab_type": "text",
    "id": "dc9nX4_SEZck"
   },
   "source": [
    "### Preparing a set of validation images by taking out 25 percent of training images"
   ]
  },
  {
   "cell_type": "code",
   "execution_count": 0,
   "metadata": {
    "colab": {},
    "colab_type": "code",
    "id": "zEhcFDAyDo-2"
   },
   "outputs": [],
   "source": [
    "xray_val_path=os.path.join(xray_path,'val')\n",
    "os.mkdir(xray_val_path)"
   ]
  },
  {
   "cell_type": "code",
   "execution_count": 0,
   "metadata": {
    "colab": {},
    "colab_type": "code",
    "id": "tRzPVlM-DzPZ"
   },
   "outputs": [],
   "source": [
    "xray_val_normal=os.path.join(xray_val_path,'NORMAL')\n",
    "os.mkdir(xray_val_normal)\n",
    "xray_val_pneumonia=os.path.join(xray_val_path,'PNEUMONIA')\n",
    "os.mkdir(xray_val_pneumonia)"
   ]
  },
  {
   "cell_type": "markdown",
   "metadata": {
    "colab_type": "text",
    "id": "QduGzVX2Eeth"
   },
   "source": [
    "- Preparing the respective directories."
   ]
  },
  {
   "cell_type": "code",
   "execution_count": 0,
   "metadata": {
    "colab": {},
    "colab_type": "code",
    "id": "hwbaAESaD_3a"
   },
   "outputs": [],
   "source": [
    "copy_files(xray_train_normal,xray_val_normal)\n",
    "copy_files(xray_train_pneumonia,xray_val_pneumonia)"
   ]
  },
  {
   "cell_type": "code",
   "execution_count": 0,
   "metadata": {
    "colab": {
     "base_uri": "https://localhost:8080/",
     "height": 84
    },
    "colab_type": "code",
    "id": "jHZuNOXZExqZ",
    "outputId": "fde39662-38e5-47de-fbb5-f9e1a4298a4b"
   },
   "outputs": [
    {
     "name": "stdout",
     "output_type": "stream",
     "text": [
      "Total Chest X-Ray train NORMAL images: 1012\n",
      "Total Chest X-Ray val NORMAL images: 337\n",
      "Total Chest X-Ray train PNEUMONIA images: 2913\n",
      "Total Chest X-Ray val PNEUMONIA images: 971\n"
     ]
    }
   ],
   "source": [
    "print('Total Chest X-Ray train NORMAL images:', len(os.listdir(xray_train_normal)))\n",
    "print('Total Chest X-Ray val NORMAL images:', len(os.listdir(xray_val_normal)))\n",
    "print('Total Chest X-Ray train PNEUMONIA images:', len(os.listdir(xray_train_pneumonia)))\n",
    "print('Total Chest X-Ray val PNEUMONIA images:', len(os.listdir(xray_val_pneumonia)))"
   ]
  },
  {
   "cell_type": "markdown",
   "metadata": {
    "colab_type": "text",
    "id": "Hg76qEc-FrAu"
   },
   "source": [
    "### Training the model"
   ]
  },
  {
   "cell_type": "markdown",
   "metadata": {
    "colab_type": "text",
    "id": "iRyIQsA-FvSZ"
   },
   "source": [
    "#### Checking the shape of the images"
   ]
  },
  {
   "cell_type": "code",
   "execution_count": 0,
   "metadata": {
    "colab": {
     "base_uri": "https://localhost:8080/",
     "height": 34
    },
    "colab_type": "code",
    "id": "80l6VBXtEPgU",
    "outputId": "93292c0d-be4e-48ad-96c9-a77a01102164"
   },
   "outputs": [
    {
     "data": {
      "text/plain": [
       "(768, 1232, 3)"
      ]
     },
     "execution_count": 50,
     "metadata": {
      "tags": []
     },
     "output_type": "execute_result"
    }
   ],
   "source": [
    "files=os.listdir(xray_val_pneumonia)\n",
    "img = image.load_img(os.path.join(xray_val_pneumonia,files[1]))\n",
    "img=image.img_to_array(img)\n",
    "img.shape"
   ]
  },
  {
   "cell_type": "markdown",
   "metadata": {
    "colab_type": "text",
    "id": "8HjIzb0MF3ZK"
   },
   "source": [
    "#### Building the model"
   ]
  },
  {
   "cell_type": "code",
   "execution_count": 0,
   "metadata": {
    "colab": {},
    "colab_type": "code",
    "id": "NS0WfW-kEk1s"
   },
   "outputs": [],
   "source": [
    "model = models.Sequential()\n",
    "model.add(layers.Conv2D(32, (3, 3), activation='relu' ,input_shape=(256, 256, 3)))\n",
    "model.add(layers.Conv2D(32, (3, 3), activation='relu'))\n",
    "model.add(layers.MaxPooling2D((2, 2)))\n",
    "model.add(layers.Conv2D(64, (3, 3), activation='relu'))\n",
    "model.add(layers.Conv2D(64, (3, 3), activation='relu'))\n",
    "model.add(layers.MaxPooling2D((2, 2)))\n",
    "model.add(layers.Conv2D(128, (3, 3), activation='relu'))\n",
    "model.add(layers.Conv2D(128, (3, 3), activation='relu'))\n",
    "model.add(layers.Conv2D(128, (3, 3), activation='relu'))\n",
    "model.add(layers.MaxPooling2D((2, 2)))\n",
    "model.add(layers.Conv2D(256, (3, 3), activation='relu'))\n",
    "model.add(layers.Conv2D(256, (3, 3), activation='relu'))\n",
    "model.add(layers.Conv2D(256, (3, 3), activation='relu'))\n",
    "model.add(layers.MaxPooling2D((2, 2)))\n",
    "model.add(layers.Flatten())\n",
    "model.add(layers.Dropout(0.5))\n",
    "model.add(layers.Dense(512, activation='relu'))\n",
    "model.add(layers.Dense(1, activation='sigmoid'))"
   ]
  },
  {
   "cell_type": "code",
   "execution_count": 0,
   "metadata": {
    "colab": {
     "base_uri": "https://localhost:8080/",
     "height": 756
    },
    "colab_type": "code",
    "id": "MUZ0a2JtF-fw",
    "outputId": "b48f338b-bfbb-481d-948a-af7c7ddbb376"
   },
   "outputs": [
    {
     "name": "stdout",
     "output_type": "stream",
     "text": [
      "Model: \"sequential_37\"\n",
      "_________________________________________________________________\n",
      "Layer (type)                 Output Shape              Param #   \n",
      "=================================================================\n",
      "conv2d_341 (Conv2D)          (None, 254, 254, 32)      896       \n",
      "_________________________________________________________________\n",
      "conv2d_342 (Conv2D)          (None, 252, 252, 32)      9248      \n",
      "_________________________________________________________________\n",
      "max_pooling2d_144 (MaxPoolin (None, 126, 126, 32)      0         \n",
      "_________________________________________________________________\n",
      "conv2d_343 (Conv2D)          (None, 124, 124, 64)      18496     \n",
      "_________________________________________________________________\n",
      "conv2d_344 (Conv2D)          (None, 122, 122, 64)      36928     \n",
      "_________________________________________________________________\n",
      "max_pooling2d_145 (MaxPoolin (None, 61, 61, 64)        0         \n",
      "_________________________________________________________________\n",
      "conv2d_345 (Conv2D)          (None, 59, 59, 128)       73856     \n",
      "_________________________________________________________________\n",
      "conv2d_346 (Conv2D)          (None, 57, 57, 128)       147584    \n",
      "_________________________________________________________________\n",
      "conv2d_347 (Conv2D)          (None, 55, 55, 128)       147584    \n",
      "_________________________________________________________________\n",
      "max_pooling2d_146 (MaxPoolin (None, 27, 27, 128)       0         \n",
      "_________________________________________________________________\n",
      "conv2d_348 (Conv2D)          (None, 25, 25, 256)       295168    \n",
      "_________________________________________________________________\n",
      "conv2d_349 (Conv2D)          (None, 23, 23, 256)       590080    \n",
      "_________________________________________________________________\n",
      "conv2d_350 (Conv2D)          (None, 21, 21, 256)       590080    \n",
      "_________________________________________________________________\n",
      "max_pooling2d_147 (MaxPoolin (None, 10, 10, 256)       0         \n",
      "_________________________________________________________________\n",
      "flatten_37 (Flatten)         (None, 25600)             0         \n",
      "_________________________________________________________________\n",
      "dropout_34 (Dropout)         (None, 25600)             0         \n",
      "_________________________________________________________________\n",
      "dense_73 (Dense)             (None, 512)               13107712  \n",
      "_________________________________________________________________\n",
      "dense_74 (Dense)             (None, 1)                 513       \n",
      "=================================================================\n",
      "Total params: 15,018,145\n",
      "Trainable params: 15,018,145\n",
      "Non-trainable params: 0\n",
      "_________________________________________________________________\n"
     ]
    }
   ],
   "source": [
    "model.summary()"
   ]
  },
  {
   "cell_type": "code",
   "execution_count": 0,
   "metadata": {
    "colab": {},
    "colab_type": "code",
    "id": "A4wDVqcDGJ3a"
   },
   "outputs": [],
   "source": [
    "model.compile(loss='binary_crossentropy',\n",
    "optimizer=optimizers.RMSprop(0.0001),\n",
    "metrics=['acc'])"
   ]
  },
  {
   "cell_type": "code",
   "execution_count": 0,
   "metadata": {
    "colab": {
     "base_uri": "https://localhost:8080/",
     "height": 34
    },
    "colab_type": "code",
    "id": "xKIHcKgfGNp2",
    "outputId": "d4381fb4-50e3-4b49-87ab-76452eb762fa"
   },
   "outputs": [
    {
     "name": "stdout",
     "output_type": "stream",
     "text": [
      "Found 3924 images belonging to 2 classes.\n"
     ]
    }
   ],
   "source": [
    "train_generator = train_datagen.flow_from_directory(\n",
    "xray_train_path,\n",
    "#target_size=(150, 150),\n",
    "batch_size=64,\n",
    "class_mode='binary',\n",
    "shuffle=True)"
   ]
  },
  {
   "cell_type": "code",
   "execution_count": 0,
   "metadata": {
    "colab": {
     "base_uri": "https://localhost:8080/",
     "height": 34
    },
    "colab_type": "code",
    "id": "d6IJ93MXGbcC",
    "outputId": "bf77a30d-2cf6-4407-ac1e-115e20128e15"
   },
   "outputs": [
    {
     "name": "stdout",
     "output_type": "stream",
     "text": [
      "Found 1308 images belonging to 2 classes.\n"
     ]
    }
   ],
   "source": [
    "validation_generator = train_datagen.flow_from_directory(\n",
    "xray_val_path,\n",
    "#target_size=(150, 150),\n",
    "batch_size=64,\n",
    "class_mode='binary',\n",
    "shuffle=True)"
   ]
  },
  {
   "cell_type": "code",
   "execution_count": 0,
   "metadata": {
    "colab": {
     "base_uri": "https://localhost:8080/",
     "height": 470
    },
    "colab_type": "code",
    "id": "i9l_4gsbGeRd",
    "outputId": "82ffb55c-d10f-4771-fc01-aba4b4b8bfbc"
   },
   "outputs": [
    {
     "name": "stdout",
     "output_type": "stream",
     "text": [
      "Epoch 1/16\n",
      "62/62 [==============================] - 135s 2s/step - loss: 0.5852 - acc: 0.7342 - val_loss: 0.5185 - val_acc: 0.7424\n",
      "Epoch 2/16\n",
      "62/62 [==============================] - 119s 2s/step - loss: 0.4867 - acc: 0.7610 - val_loss: 1.2196 - val_acc: 0.7813\n",
      "Epoch 3/16\n",
      "62/62 [==============================] - 118s 2s/step - loss: 0.4016 - acc: 0.8084 - val_loss: 0.4435 - val_acc: 0.7913\n",
      "Epoch 4/16\n",
      "62/62 [==============================] - 119s 2s/step - loss: 0.3679 - acc: 0.8275 - val_loss: 0.3840 - val_acc: 0.8394\n",
      "Epoch 5/16\n",
      "62/62 [==============================] - 119s 2s/step - loss: 0.3191 - acc: 0.8512 - val_loss: 0.3799 - val_acc: 0.8670\n",
      "Epoch 6/16\n",
      "62/62 [==============================] - 118s 2s/step - loss: 0.3221 - acc: 0.8568 - val_loss: 0.1624 - val_acc: 0.8540\n",
      "Epoch 7/16\n",
      "62/62 [==============================] - 118s 2s/step - loss: 0.3077 - acc: 0.8570 - val_loss: 0.3414 - val_acc: 0.8930\n",
      "Epoch 8/16\n",
      "62/62 [==============================] - 119s 2s/step - loss: 0.3123 - acc: 0.8583 - val_loss: 0.3208 - val_acc: 0.8601\n",
      "\n",
      "Epoch 00008: ReduceLROnPlateau reducing learning rate to 1.9999999494757503e-05.\n",
      "Epoch 9/16\n",
      "62/62 [==============================] - 121s 2s/step - loss: 0.2729 - acc: 0.8784 - val_loss: 0.2952 - val_acc: 0.8914\n",
      "Epoch 10/16\n",
      "62/62 [==============================] - 120s 2s/step - loss: 0.2593 - acc: 0.8843 - val_loss: 0.1918 - val_acc: 0.8884\n",
      "\n",
      "Epoch 00010: ReduceLROnPlateau reducing learning rate to 3.999999898951501e-06.\n",
      "Epoch 11/16\n",
      "62/62 [==============================] - 118s 2s/step - loss: 0.2437 - acc: 0.8942 - val_loss: 0.3505 - val_acc: 0.9006\n",
      "Epoch 00011: early stopping\n"
     ]
    }
   ],
   "source": [
    "history = model.fit_generator(\n",
    "train_generator,\n",
    "steps_per_epoch=62,\n",
    "epochs=16,\n",
    "validation_data=validation_generator,\n",
    "validation_steps=21,\n",
    "callbacks=[earlystopper, reduce_lr])"
   ]
  },
  {
   "cell_type": "code",
   "execution_count": 0,
   "metadata": {
    "colab": {},
    "colab_type": "code",
    "id": "2p5kCb0jG0hp"
   },
   "outputs": [],
   "source": [
    "model.save('chest_xray.h5')\n",
    "#model=models.load_model('/content/drive/My Drive/chest_xray.h5')"
   ]
  },
  {
   "cell_type": "code",
   "execution_count": 0,
   "metadata": {
    "colab": {},
    "colab_type": "code",
    "id": "cZQaOCPBPGZP"
   },
   "outputs": [],
   "source": [
    "acc = history.history['acc']\n",
    "val_acc = history.history['val_acc']\n",
    "loss = history.history['loss']\n",
    "val_loss = history.history['val_loss']"
   ]
  },
  {
   "cell_type": "code",
   "execution_count": 0,
   "metadata": {
    "colab": {
     "base_uri": "https://localhost:8080/",
     "height": 314
    },
    "colab_type": "code",
    "id": "WZJa9WMOPNH4",
    "outputId": "69459c44-1294-44f0-d568-3450618e3b22"
   },
   "outputs": [
    {
     "data": {
      "text/plain": [
       "<Figure size 432x288 with 0 Axes>"
      ]
     },
     "execution_count": 335,
     "metadata": {
      "tags": []
     },
     "output_type": "execute_result"
    },
    {
     "data": {
      "image/png": "[encoded data removed]",
      "text/plain": [
       "<Figure size 432x288 with 1 Axes>"
      ]
     },
     "metadata": {
      "needs_background": "light",
      "tags": []
     },
     "output_type": "display_data"
    },
    {
     "data": {
      "text/plain": [
       "<Figure size 432x288 with 0 Axes>"
      ]
     },
     "metadata": {
      "tags": []
     },
     "output_type": "display_data"
    }
   ],
   "source": [
    "epochs = range(1, len(acc) + 1)\n",
    "plt.plot(epochs, acc, 'bo', label='Training acc')\n",
    "plt.plot(epochs, val_acc, 'b', label='Validation acc')\n",
    "plt.title('Training and validation accuracy')\n",
    "plt.legend()\n",
    "plt.figure()"
   ]
  },
  {
   "cell_type": "code",
   "execution_count": 0,
   "metadata": {
    "colab": {
     "base_uri": "https://localhost:8080/",
     "height": 281
    },
    "colab_type": "code",
    "id": "sJtkbvkePUs1",
    "outputId": "f6c31445-f72e-4b0f-b7f7-eacef32d72a1"
   },
   "outputs": [
    {
     "data": {
      "image/png": "[encoded data removed]",
      "text/plain": [
       "<Figure size 432x288 with 1 Axes>"
      ]
     },
     "metadata": {
      "needs_background": "light",
      "tags": []
     },
     "output_type": "display_data"
    }
   ],
   "source": [
    "plt.plot(epochs, loss, 'bo', label='Training loss')\n",
    "plt.plot(epochs, val_loss, 'b', label='Validation loss')\n",
    "plt.title('Training and validation loss')\n",
    "plt.legend()\n",
    "plt.show()"
   ]
  },
  {
   "cell_type": "markdown",
   "metadata": {
    "colab_type": "text",
    "id": "G9ZwMFnhZTWo"
   },
   "source": [
    "### Testing the model"
   ]
  },
  {
   "cell_type": "code",
   "execution_count": 0,
   "metadata": {
    "colab": {
     "base_uri": "https://localhost:8080/",
     "height": 34
    },
    "colab_type": "code",
    "id": "on1ovZMKPa1L",
    "outputId": "b0b3a839-164b-4ee9-8884-fd3b3d36361a"
   },
   "outputs": [
    {
     "name": "stdout",
     "output_type": "stream",
     "text": [
      "Found 624 images belonging to 2 classes.\n"
     ]
    }
   ],
   "source": [
    "test_generator = test_datagen.flow_from_directory(\n",
    "xray_test_path,\n",
    "#target_size=(150, 150),\n",
    "class_mode='binary',\n",
    "shuffle=False)"
   ]
  },
  {
   "cell_type": "code",
   "execution_count": 0,
   "metadata": {
    "colab": {},
    "colab_type": "code",
    "id": "At0M8ygpZjww"
   },
   "outputs": [],
   "source": [
    "pred=model.predict_generator(test_generator)"
   ]
  },
  {
   "cell_type": "code",
   "execution_count": 0,
   "metadata": {
    "colab": {},
    "colab_type": "code",
    "id": "aN34EkN0Zy_d"
   },
   "outputs": [],
   "source": [
    "predictions=[]\n",
    "for p in pred:\n",
    "    if p>0.5:\n",
    "        predictions.append(1)\n",
    "    else:\n",
    "        predictions.append(0)"
   ]
  },
  {
   "cell_type": "code",
   "execution_count": 0,
   "metadata": {
    "colab": {
     "base_uri": "https://localhost:8080/",
     "height": 34
    },
    "colab_type": "code",
    "id": "wRlx38ujaGan",
    "outputId": "1e8f676f-71ef-4b71-ab79-051b3fa868ab"
   },
   "outputs": [
    {
     "name": "stdout",
     "output_type": "stream",
     "text": [
      "Accuracy Score ->  84.4551282051282\n"
     ]
    }
   ],
   "source": [
    "# Accuracy score\n",
    "print(\"Accuracy Score -> \",accuracy_score(predictions,test_generator.labels)*100)"
   ]
  },
  {
   "cell_type": "code",
   "execution_count": 0,
   "metadata": {
    "colab": {
     "base_uri": "https://localhost:8080/",
     "height": 168
    },
    "colab_type": "code",
    "id": "dB-0cVJ8aMIh",
    "outputId": "59e38bb1-bf93-490b-bd3e-31ed669815b0"
   },
   "outputs": [
    {
     "name": "stdout",
     "output_type": "stream",
     "text": [
      "              precision    recall  f1-score   support\n",
      "\n",
      "           0       0.78      0.82      0.80       234\n",
      "           1       0.89      0.86      0.87       390\n",
      "\n",
      "    accuracy                           0.84       624\n",
      "   macro avg       0.83      0.84      0.84       624\n",
      "weighted avg       0.85      0.84      0.85       624\n",
      "\n"
     ]
    }
   ],
   "source": [
    "# Classification report\n",
    "print(classification_report(test_generator.labels, predictions))"
   ]
  },
  {
   "cell_type": "code",
   "execution_count": 0,
   "metadata": {
    "colab": {
     "base_uri": "https://localhost:8080/",
     "height": 34
    },
    "colab_type": "code",
    "id": "ccnDWmcxaRmr",
    "outputId": "b9eb15f7-c38b-406f-84dc-15c5aa9bb189"
   },
   "outputs": [
    {
     "data": {
      "text/plain": [
       "0.8397435897435898"
      ]
     },
     "execution_count": 342,
     "metadata": {
      "tags": []
     },
     "output_type": "execute_result"
    }
   ],
   "source": [
    "multiclass_roc_auc_score(test_generator.labels, predictions)"
   ]
  },
  {
   "cell_type": "markdown",
   "metadata": {
    "colab_type": "text",
    "id": "9jPbgkLiaZTW"
   },
   "source": [
    "- Our model is giving an AUC-ROC of 0.839 on the test set,which is pretty good considering such less number of training images."
   ]
  }
 ],
 "metadata": {
  "accelerator": "GPU",
  "colab": {
   "collapsed_sections": [],
   "name": "OCT & Chest X-Ray - Computer Vision.ipynb",
   "provenance": []
  },
  "kernelspec": {
   "display_name": "Python 3",
   "language": "python",
   "name": "python3"
  },
  "language_info": {
   "codemirror_mode": {
    "name": "ipython",
    "version": 3
   },
   "file_extension": ".py",
   "mimetype": "text/x-python",
   "name": "python",
   "nbconvert_exporter": "python",
   "pygments_lexer": "ipython3",
   "version": "3.7.3"
  }
 },
 "nbformat": 4,
 "nbformat_minor": 1
}
